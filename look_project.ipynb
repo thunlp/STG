{
 "cells": [
  {
   "cell_type": "markdown",
   "metadata": {},
   "source": [
    "load all the testSet preprocessed in create_data\n",
    "\n",
    "for one data\n",
    "\n",
    "- data[0] is the identity in BabelNet\n",
    "- data[1] is list of definitions, standing for different senses\n",
    "- data[2] is list of tree sequences, each nodes is a sememe\n",
    "- data[3] is list of matrix of distance of different nodes, using for `TaSTG model`\n",
    "- data[4] is list of depth of nodes, using for `Tree Attn`\n"
   ]
  },
  {
   "cell_type": "code",
   "execution_count": 16,
   "metadata": {},
   "outputs": [
    {
     "name": "stdout",
     "output_type": "stream",
     "text": [
      "['bn:00107165a', ['Connected with or belonging to or used in a navy', 'Of or relating to a navy.'], [['start', 'part|部件', 'military|军', 'end', 'army|军队', 'end', 'fight|争斗', '~', 'end', 'waters|水域', 'end', 'end', 'end']], [tensor([[[0, 2, 4, 3, 4, 3, 4, 6, 5, 6, 5, 3],\n",
      "         [2, 0, 2, 1, 2, 1, 2, 4, 3, 4, 3, 1],\n",
      "         [4, 2, 0, 1, 4, 3, 4, 6, 5, 6, 5, 3],\n",
      "         [3, 1, 1, 0, 3, 2, 3, 5, 4, 5, 4, 2],\n",
      "         [4, 2, 4, 3, 0, 1, 4, 6, 5, 6, 5, 3],\n",
      "         [3, 1, 3, 2, 1, 0, 3, 5, 4, 5, 4, 2],\n",
      "         [4, 2, 4, 3, 4, 3, 0, 2, 1, 2, 1, 1],\n",
      "         [6, 4, 6, 5, 6, 5, 2, 0, 1, 4, 3, 3],\n",
      "         [5, 3, 5, 4, 5, 4, 1, 1, 0, 3, 2, 2],\n",
      "         [6, 4, 6, 5, 6, 5, 2, 4, 3, 0, 1, 3],\n",
      "         [5, 3, 5, 4, 5, 4, 1, 3, 2, 1, 0, 2],\n",
      "         [3, 1, 3, 2, 3, 2, 1, 3, 2, 3, 2, 0]]])], [tensor([[0, 2, 4, 3, 4, 3, 4, 6, 5, 6, 5, 3]])]]\n"
     ]
    }
   ],
   "source": [
    "\n",
    "import torch\n",
    "from torchvision import transforms\n",
    "from imp import reload\n",
    "\n",
    "from create_data import sememeDataset\n",
    "import tree2seq\n",
    "\n",
    "\n",
    "testSet = torch.load(\"./data/testSet.pkl\")\n",
    "\n",
    "print(testSet[4122])\n"
   ]
  },
  {
   "cell_type": "markdown",
   "metadata": {},
   "source": [
    "now we can try to look at one sememe tree. like this: "
   ]
  },
  {
   "cell_type": "code",
   "execution_count": 17,
   "metadata": {},
   "outputs": [
    {
     "name": "stdout",
     "output_type": "stream",
     "text": [
      "tree sequence: ['start', 'part|部件', 'military|军', 'end', 'army|军队', 'end', 'fight|争斗', '~', 'end', 'waters|水域', 'end', 'end', 'end']\n",
      "start\n",
      "└── part|部件\n",
      "    ├── army|军队\n",
      "    ├── fight|争斗\n",
      "    │   ├── waters|水域\n",
      "    │   └── ~\n",
      "    └── military|军\n",
      "\n"
     ]
    }
   ],
   "source": [
    "reload(tree2seq)\n",
    "\n",
    "treeSeq = testSet[4122][2][0]\n",
    "print(f\"tree sequence: {treeSeq}\")\n",
    "\n",
    "tree = tree2seq.seq2tree(treeSeq)\n",
    "print(tree)"
   ]
  },
  {
   "cell_type": "markdown",
   "metadata": {},
   "source": [
    "then, we can try to compute the `strict,edge,vertex f1` for the two example\n",
    "for the exact same tree:"
   ]
  },
  {
   "cell_type": "code",
   "execution_count": 18,
   "metadata": {},
   "outputs": [
    {
     "name": "stdout",
     "output_type": "stream",
     "text": [
      "strict: 1.0, edge: 1.0, vertex: 1.0\n"
     ]
    }
   ],
   "source": [
    "treeSeqOther = ['start', 'part|部件', 'military|军', 'end', 'army|军队', 'end', 'fight|争斗', '~', 'end', 'waters|水域', 'end', 'end', 'end']\n",
    "\n",
    "score = tree2seq.computeStrict(treeSeq, treeSeqOther, endtoken=\"end\")\n",
    "print(f\"strict: {score[0][0]}, edge: {score[0][1]}, vertex: {score[0][2]}\")"
   ]
  },
  {
   "cell_type": "markdown",
   "metadata": {},
   "source": [
    "but if we change only the first meaningful node\n",
    "- strict F1 go to 0, because it doesn't consider the subtree if the root is miss\n",
    "- edge F1 consider whether the branch is correct(`father=father && child=child`)\n",
    "- vertex F1 is high, because these two trees have most vertex the same `except attack_sememe`\n",
    "\n",
    "under the ecumenic condition: `strict <= edge <= vertex`"
   ]
  },
  {
   "cell_type": "code",
   "execution_count": 19,
   "metadata": {},
   "outputs": [
    {
     "name": "stdout",
     "output_type": "stream",
     "text": [
      "strict: 0.0, edge: 0.3333333333333333, vertex: 0.8333333333333334\n"
     ]
    }
   ],
   "source": [
    "treeSeqOtherChange = ['start', 'attack_sememe', 'military|军', 'end', 'army|军队', 'end', 'fight|争斗', '~', 'end', 'waters|水域', 'end', 'end', 'end']\n",
    "\n",
    "score = tree2seq.computeStrict(treeSeq, treeSeqOtherChange, endtoken=\"end\")\n",
    "print(f\"strict: {score[0][0]}, edge: {score[0][1]}, vertex: {score[0][2]}\")"
   ]
  }
 ],
 "metadata": {
  "interpreter": {
   "hash": "0ffd19c8e29298fd3c99c25484a4305f116ae047585386d005de0787e2730ec1"
  },
  "kernelspec": {
   "display_name": "Python 3.8.3 ('base')",
   "language": "python",
   "name": "python3"
  },
  "language_info": {
   "codemirror_mode": {
    "name": "ipython",
    "version": 3
   },
   "file_extension": ".py",
   "mimetype": "text/x-python",
   "name": "python",
   "nbconvert_exporter": "python",
   "pygments_lexer": "ipython3",
   "version": "3.8.3"
  },
  "orig_nbformat": 4
 },
 "nbformat": 4,
 "nbformat_minor": 2
}
